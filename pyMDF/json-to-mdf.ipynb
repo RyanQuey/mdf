{
 "cells": [
  {
   "cell_type": "code",
   "execution_count": 2,
   "metadata": {},
   "outputs": [
    {
     "name": "stdout",
     "output_type": "stream",
     "text": [
      "path /home/vagrant/projects/mdf/pyMDF/mdf_playground/../test_data/testJson_exp.json\n"
     ]
    },
    {
     "data": {
      "text/html": [
       "<div>\n",
       "<style scoped>\n",
       "    .dataframe tbody tr th:only-of-type {\n",
       "        vertical-align: middle;\n",
       "    }\n",
       "\n",
       "    .dataframe tbody tr th {\n",
       "        vertical-align: top;\n",
       "    }\n",
       "\n",
       "    .dataframe thead th {\n",
       "        text-align: right;\n",
       "    }\n",
       "</style>\n",
       "<table border=\"1\" class=\"dataframe\">\n",
       "  <thead>\n",
       "    <tr style=\"text-align: right;\">\n",
       "      <th></th>\n",
       "      <th>integer</th>\n",
       "      <th>float</th>\n",
       "      <th>string</th>\n",
       "      <th>object</th>\n",
       "      <th>stringarray</th>\n",
       "      <th>vector</th>\n",
       "      <th>matrix</th>\n",
       "    </tr>\n",
       "  </thead>\n",
       "  <tbody>\n",
       "    <tr>\n",
       "      <th>0</th>\n",
       "      <td>1</td>\n",
       "      <td>2.34</td>\n",
       "      <td>This is a string</td>\n",
       "      <td>{'field1': 'field1', 'field2': 2, 'field3': []}</td>\n",
       "      <td>[This is the first string, This is the second ...</td>\n",
       "      <td>[1, 2, 3, 4, 5, 6, 7, 8, 9]</td>\n",
       "      <td>[[1, 2, 3], [4, 5, 6], [7, 8, 9]]</td>\n",
       "    </tr>\n",
       "    <tr>\n",
       "      <th>1</th>\n",
       "      <td>2</td>\n",
       "      <td>2.35</td>\n",
       "      <td>This is another string</td>\n",
       "      <td>{'field1': 'field1', 'field2': 23, 'field3': []}</td>\n",
       "      <td>[This is the first string, This is the second ...</td>\n",
       "      <td>[1, 2, 3, 4, 5, 6, 7, 8, 9, 10]</td>\n",
       "      <td>[[1, 2, 3], [4, 5, 6], [7, 8, 9]]</td>\n",
       "    </tr>\n",
       "  </tbody>\n",
       "</table>\n",
       "</div>"
      ],
      "text/plain": [
       "   integer  float                  string  \\\n",
       "0        1   2.34        This is a string   \n",
       "1        2   2.35  This is another string   \n",
       "\n",
       "                                             object  \\\n",
       "0   {'field1': 'field1', 'field2': 2, 'field3': []}   \n",
       "1  {'field1': 'field1', 'field2': 23, 'field3': []}   \n",
       "\n",
       "                                         stringarray  \\\n",
       "0  [This is the first string, This is the second ...   \n",
       "1  [This is the first string, This is the second ...   \n",
       "\n",
       "                            vector                             matrix  \n",
       "0      [1, 2, 3, 4, 5, 6, 7, 8, 9]  [[1, 2, 3], [4, 5, 6], [7, 8, 9]]  \n",
       "1  [1, 2, 3, 4, 5, 6, 7, 8, 9, 10]  [[1, 2, 3], [4, 5, 6], [7, 8, 9]]  "
      ]
     },
     "execution_count": 2,
     "metadata": {},
     "output_type": "execute_result"
    }
   ],
   "source": [
    "import pandas as pd\n",
    "import numpy as np\n",
    "\n",
    "# loading one of the test json files\n",
    "# from mdf_playground.mdf_json_to_pandas import json2pd\n",
    "from mdf_playground.mdf_json_to_pandas import json2pd\n",
    "\n",
    "df = json2pd()\n",
    "df"
   ]
  },
  {
   "cell_type": "code",
   "execution_count": null,
   "metadata": {},
   "outputs": [],
   "source": []
  },
  {
   "cell_type": "code",
   "execution_count": null,
   "metadata": {},
   "outputs": [],
   "source": []
  },
  {
   "cell_type": "code",
   "execution_count": null,
   "metadata": {},
   "outputs": [],
   "source": []
  },
  {
   "cell_type": "code",
   "execution_count": null,
   "metadata": {},
   "outputs": [],
   "source": []
  }
 ],
 "metadata": {
  "kernelspec": {
   "display_name": "Python 3",
   "language": "python",
   "name": "python3"
  },
  "language_info": {
   "codemirror_mode": {
    "name": "ipython",
    "version": 3
   },
   "file_extension": ".py",
   "mimetype": "text/x-python",
   "name": "python",
   "nbconvert_exporter": "python",
   "pygments_lexer": "ipython3",
   "version": "3.6.9"
  }
 },
 "nbformat": 4,
 "nbformat_minor": 4
}
