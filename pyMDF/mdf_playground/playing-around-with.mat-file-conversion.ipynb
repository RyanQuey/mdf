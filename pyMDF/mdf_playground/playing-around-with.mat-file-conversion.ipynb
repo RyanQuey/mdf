{
 "cells": [
  {
   "cell_type": "markdown",
   "metadata": {},
   "source": [
    "md\n",
    "# Examples for loading .mat files into pandas\n",
    "NOTE work in progress. But gives at least a simple example of what this could look like. Keep in mind however, this is not what pyMDF is for. pyMDF does not deal with .mat files, rather it reads and writes data from the same db that mMDF does and interacts with it with the same functionality and a similar API (or at least pyMDF will do all of this once it is finished)\n"
   ]
  },
  {
   "cell_type": "code",
   "execution_count": 38,
   "metadata": {},
   "outputs": [
    {
     "name": "stdout",
     "output_type": "stream",
     "text": [
      "setting the data frame...\n"
     ]
    },
    {
     "data": {
      "text/html": [
       "<div>\n",
       "<style scoped>\n",
       "    .dataframe tbody tr th:only-of-type {\n",
       "        vertical-align: middle;\n",
       "    }\n",
       "\n",
       "    .dataframe tbody tr th {\n",
       "        vertical-align: top;\n",
       "    }\n",
       "\n",
       "    .dataframe thead th {\n",
       "        text-align: right;\n",
       "    }\n",
       "</style>\n",
       "<table border=\"1\" class=\"dataframe\">\n",
       "  <thead>\n",
       "    <tr style=\"text-align: right;\">\n",
       "      <th></th>\n",
       "      <th>integer</th>\n",
       "      <th>float</th>\n",
       "      <th>string</th>\n",
       "      <th>object</th>\n",
       "      <th>stringarray</th>\n",
       "      <th>vector</th>\n",
       "      <th>matrix</th>\n",
       "    </tr>\n",
       "  </thead>\n",
       "  <tbody>\n",
       "    <tr>\n",
       "      <th>0</th>\n",
       "      <td>1</td>\n",
       "      <td>2.34</td>\n",
       "      <td>This is a string</td>\n",
       "      <td>{'field1': 'field1', 'field2': 2, 'field3': []}</td>\n",
       "      <td>[This is the first string, This is the second ...</td>\n",
       "      <td>[1, 2, 3, 4, 5, 6, 7, 8, 9]</td>\n",
       "      <td>[[1, 2, 3], [4, 5, 6], [7, 8, 9]]</td>\n",
       "    </tr>\n",
       "    <tr>\n",
       "      <th>1</th>\n",
       "      <td>2</td>\n",
       "      <td>2.35</td>\n",
       "      <td>This is another string</td>\n",
       "      <td>{'field1': 'field1', 'field2': 23, 'field3': []}</td>\n",
       "      <td>[This is the first string, This is the second ...</td>\n",
       "      <td>[1, 2, 3, 4, 5, 6, 7, 8, 9, 10]</td>\n",
       "      <td>[[1, 2, 3], [4, 5, 6], [7, 8, 9]]</td>\n",
       "    </tr>\n",
       "  </tbody>\n",
       "</table>\n",
       "</div>"
      ],
      "text/plain": [
       "   integer  float                  string  \\\n",
       "0        1   2.34        This is a string   \n",
       "1        2   2.35  This is another string   \n",
       "\n",
       "                                             object  \\\n",
       "0   {'field1': 'field1', 'field2': 2, 'field3': []}   \n",
       "1  {'field1': 'field1', 'field2': 23, 'field3': []}   \n",
       "\n",
       "                                         stringarray  \\\n",
       "0  [This is the first string, This is the second ...   \n",
       "1  [This is the first string, This is the second ...   \n",
       "\n",
       "                            vector                             matrix  \n",
       "0      [1, 2, 3, 4, 5, 6, 7, 8, 9]  [[1, 2, 3], [4, 5, 6], [7, 8, 9]]  \n",
       "1  [1, 2, 3, 4, 5, 6, 7, 8, 9, 10]  [[1, 2, 3], [4, 5, 6], [7, 8, 9]]  "
      ]
     },
     "execution_count": 38,
     "metadata": {},
     "output_type": "execute_result"
    }
   ],
   "source": [
    "import pandas as pd\n",
    "import numpy as np\n",
    "\n",
    "# loading the .mat file\n",
    "from mdf_mat_to_pandas import mat2pd\n",
    "\n",
    "df = mat2pd()\n",
    "\n",
    "json_df"
   ]
  },
  {
   "cell_type": "code",
   "execution_count": 6,
   "metadata": {},
   "outputs": [
    {
     "data": {
      "text/html": [
       "<div>\n",
       "<style scoped>\n",
       "    .dataframe tbody tr th:only-of-type {\n",
       "        vertical-align: middle;\n",
       "    }\n",
       "\n",
       "    .dataframe tbody tr th {\n",
       "        vertical-align: top;\n",
       "    }\n",
       "\n",
       "    .dataframe thead th {\n",
       "        text-align: right;\n",
       "    }\n",
       "</style>\n",
       "<table border=\"1\" class=\"dataframe\">\n",
       "  <thead>\n",
       "    <tr style=\"text-align: right;\">\n",
       "      <th></th>\n",
       "      <th>float</th>\n",
       "      <th>integer</th>\n",
       "      <th>matrix</th>\n",
       "      <th>object</th>\n",
       "      <th>string</th>\n",
       "      <th>stringarray</th>\n",
       "      <th>vector</th>\n",
       "    </tr>\n",
       "  </thead>\n",
       "  <tbody>\n",
       "    <tr>\n",
       "      <th>0</th>\n",
       "      <td>[[2.34]]</td>\n",
       "      <td>[[1.0]]</td>\n",
       "      <td>[[1.0, 4.0, 7.0], [2.0, 5.0, 8.0], [3.0, 6.0, ...</td>\n",
       "      <td>[field1, field2, field3]</td>\n",
       "      <td>[[84], [104], [105], [115], [32], [105], [115]...</td>\n",
       "      <td>[[&lt;HDF5 object reference&gt;, &lt;HDF5 object refere...</td>\n",
       "      <td>[[1.0, 2.0, 3.0, 4.0, 5.0, 6.0, 7.0, 8.0, 9.0]]</td>\n",
       "    </tr>\n",
       "    <tr>\n",
       "      <th>1</th>\n",
       "      <td>[[2.34]]</td>\n",
       "      <td>[[1.0]]</td>\n",
       "      <td>[[1.0, 4.0, 7.0], [2.0, 5.0, 8.0], [3.0, 6.0, ...</td>\n",
       "      <td>[field1, field2, field3]</td>\n",
       "      <td>[[84], [104], [105], [115], [32], [105], [115]...</td>\n",
       "      <td>[[&lt;HDF5 object reference&gt;, &lt;HDF5 object refere...</td>\n",
       "      <td>[[1.0, 2.0, 3.0, 4.0, 5.0, 6.0, 7.0, 8.0, 9.0]]</td>\n",
       "    </tr>\n",
       "  </tbody>\n",
       "</table>\n",
       "</div>"
      ],
      "text/plain": [
       "      float  integer                                             matrix  \\\n",
       "0  [[2.34]]  [[1.0]]  [[1.0, 4.0, 7.0], [2.0, 5.0, 8.0], [3.0, 6.0, ...   \n",
       "1  [[2.34]]  [[1.0]]  [[1.0, 4.0, 7.0], [2.0, 5.0, 8.0], [3.0, 6.0, ...   \n",
       "\n",
       "                     object  \\\n",
       "0  [field1, field2, field3]   \n",
       "1  [field1, field2, field3]   \n",
       "\n",
       "                                              string  \\\n",
       "0  [[84], [104], [105], [115], [32], [105], [115]...   \n",
       "1  [[84], [104], [105], [115], [32], [105], [115]...   \n",
       "\n",
       "                                         stringarray  \\\n",
       "0  [[<HDF5 object reference>, <HDF5 object refere...   \n",
       "1  [[<HDF5 object reference>, <HDF5 object refere...   \n",
       "\n",
       "                                            vector  \n",
       "0  [[1.0, 2.0, 3.0, 4.0, 5.0, 6.0, 7.0, 8.0, 9.0]]  \n",
       "1  [[1.0, 2.0, 3.0, 4.0, 5.0, 6.0, 7.0, 8.0, 9.0]]  "
      ]
     },
     "execution_count": 6,
     "metadata": {},
     "output_type": "execute_result"
    }
   ],
   "source": [
    "df"
   ]
  },
  {
   "cell_type": "code",
   "execution_count": 4,
   "metadata": {},
   "outputs": [
    {
     "data": {
      "text/plain": [
       "Index(['float', 'integer', 'matrix', 'object', 'string', 'stringarray',\n",
       "       'vector'],\n",
       "      dtype='object')"
      ]
     },
     "execution_count": 4,
     "metadata": {},
     "output_type": "execute_result"
    }
   ],
   "source": [
    "df.columns"
   ]
  },
  {
   "cell_type": "code",
   "execution_count": 9,
   "metadata": {},
   "outputs": [
    {
     "data": {
      "text/plain": [
       "<HDF5 dataset \"integer\": shape (1, 1), type \"<f8\">"
      ]
     },
     "execution_count": 9,
     "metadata": {},
     "output_type": "execute_result"
    }
   ],
   "source": [
    "df.integer[0]"
   ]
  },
  {
   "cell_type": "code",
   "execution_count": 11,
   "metadata": {},
   "outputs": [],
   "source": [
    "import h5py\n",
    "raw_mat_data = h5py.File('../test_data/testJson.mat', \"r\")['testJson']\n",
    "# mat_data_dict = dict(raw_mat_data)"
   ]
  },
  {
   "cell_type": "code",
   "execution_count": 166,
   "metadata": {},
   "outputs": [
    {
     "name": "stdout",
     "output_type": "stream",
     "text": [
      "H5PATH b'/testJson'\n",
      "MATLAB_class b'cell'\n"
     ]
    }
   ],
   "source": [
    "# https://stackoverflow.com/a/46312860/6952495\n",
    "# get all attributes\n",
    "for k, v in df.stringarray[0].attrs.items():\n",
    "    print(k, v)\n"
   ]
  },
  {
   "cell_type": "code",
   "execution_count": 144,
   "metadata": {},
   "outputs": [
    {
     "name": "stdout",
     "output_type": "stream",
     "text": [
      "raw\t <HDF5 dataset \"stringarray\": shape (1, 3), type \"|O\">\n",
      "raw[:]\t [[<HDF5 object reference> <HDF5 object reference> <HDF5 object reference>]]\n",
      "raw[:][0]\t [<HDF5 object reference> <HDF5 object reference> <HDF5 object reference>]\n"
     ]
    },
    {
     "data": {
      "text/plain": [
       "'This is the first string'"
      ]
     },
     "execution_count": 144,
     "metadata": {},
     "output_type": "execute_result"
    }
   ],
   "source": [
    "raw = raw_mat_data[\"stringarray\"]\n",
    "print(\"raw\\t\", raw)\n",
    "print(\"raw[:]\\t\", raw[:])\n",
    "print(\"raw[:][0]\\t\", raw[:][0])\n",
    "oned_list = raw[:][0]\n",
    "\n",
    "# getting one sample <HDF5 object reference>\n",
    "hdf5_string_obj = oned_list[0]\n",
    "\n",
    "# get the reference of the object on the file\n",
    "ref = raw_mat_data[hdf5_string_obj]\n",
    "\n",
    "# this is the final one\n",
    "''.join(chr(i) for i in ref[:])"
   ]
  },
  {
   "cell_type": "code",
   "execution_count": 146,
   "metadata": {},
   "outputs": [
    {
     "data": {
      "text/plain": [
       "'This is the first string'"
      ]
     },
     "execution_count": 146,
     "metadata": {},
     "output_type": "execute_result"
    }
   ],
   "source": [
    "\n",
    "\n",
    "# test our func real quick\n",
    "res_str = hdf5obj_to_str(hdf5_string_obj)\n",
    "res_str"
   ]
  },
  {
   "cell_type": "code",
   "execution_count": 150,
   "metadata": {},
   "outputs": [
    {
     "data": {
      "text/plain": [
       "array(['This is the first string', 'This is the second string',\n",
       "       'This is the third string'], dtype='<U25')"
      ]
     },
     "execution_count": 150,
     "metadata": {},
     "output_type": "execute_result"
    }
   ],
   "source": [
    "\n",
    "\n",
    "# both seem reasonable, seems like it depends on if I want this to be 2d or 1d array\n",
    "hdf5objs_arr_to_strs(raw_mat_data[\"stringarray\"])\n",
    "hdf5objs_arr_to_strs(raw_mat_data[\"stringarray\"][0])"
   ]
  },
  {
   "cell_type": "code",
   "execution_count": null,
   "metadata": {},
   "outputs": [],
   "source": []
  },
  {
   "cell_type": "code",
   "execution_count": 133,
   "metadata": {},
   "outputs": [
    {
     "ename": "TypeError",
     "evalue": "'h5py.h5r.Reference' object is not subscriptable",
     "output_type": "error",
     "traceback": [
      "\u001b[0;31m---------------------------------------------------------------------------\u001b[0m",
      "\u001b[0;31mTypeError\u001b[0m                                 Traceback (most recent call last)",
      "\u001b[0;32m<ipython-input-133-0c9a15b56240>\u001b[0m in \u001b[0;36m<module>\u001b[0;34m\u001b[0m\n\u001b[1;32m      7\u001b[0m \u001b[0;34m\u001b[0m\u001b[0m\n\u001b[1;32m      8\u001b[0m \u001b[0mraw_mat_data\u001b[0m \u001b[0;34m=\u001b[0m \u001b[0mMyHDF5File\u001b[0m\u001b[0;34m(\u001b[0m\u001b[0;34m'../test_data/testJson.mat'\u001b[0m\u001b[0;34m,\u001b[0m \u001b[0;34m\"r\"\u001b[0m\u001b[0;34m)\u001b[0m\u001b[0;34m[\u001b[0m\u001b[0;34m'testJson'\u001b[0m\u001b[0;34m]\u001b[0m\u001b[0;34m\u001b[0m\u001b[0;34m\u001b[0m\u001b[0m\n\u001b[0;32m----> 9\u001b[0;31m \u001b[0mstr\u001b[0m\u001b[0;34m(\u001b[0m\u001b[0mraw_mat_data\u001b[0m\u001b[0;34m[\u001b[0m\u001b[0;34m\"stringarray\"\u001b[0m\u001b[0;34m]\u001b[0m\u001b[0;34m[\u001b[0m\u001b[0;36m0\u001b[0m\u001b[0;34m]\u001b[0m\u001b[0;34m[\u001b[0m\u001b[0;36m0\u001b[0m\u001b[0;34m]\u001b[0m\u001b[0;34m[\u001b[0m\u001b[0;36m0\u001b[0m\u001b[0;34m]\u001b[0m\u001b[0;34m)\u001b[0m\u001b[0;34m\u001b[0m\u001b[0;34m\u001b[0m\u001b[0m\n\u001b[0m",
      "\u001b[0;31mTypeError\u001b[0m: 'h5py.h5r.Reference' object is not subscriptable"
     ]
    }
   ],
   "source": []
  },
  {
   "cell_type": "code",
   "execution_count": 152,
   "metadata": {},
   "outputs": [
    {
     "data": {
      "text/plain": [
       "dict_items([(1, 3)])"
      ]
     },
     "execution_count": 152,
     "metadata": {},
     "output_type": "execute_result"
    }
   ],
   "source": [
    "{1: 3}.items()"
   ]
  },
  {
   "cell_type": "code",
   "execution_count": null,
   "metadata": {},
   "outputs": [],
   "source": []
  }
 ],
 "metadata": {
  "kernelspec": {
   "display_name": "Python 3",
   "language": "python",
   "name": "python3"
  },
  "language_info": {
   "codemirror_mode": {
    "name": "ipython",
    "version": 3
   },
   "file_extension": ".py",
   "mimetype": "text/x-python",
   "name": "python",
   "nbconvert_exporter": "python",
   "pygments_lexer": "ipython3",
   "version": "3.6.9"
  }
 },
 "nbformat": 4,
 "nbformat_minor": 4
}
