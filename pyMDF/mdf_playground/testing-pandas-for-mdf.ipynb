{
 "cells": [
  {
   "cell_type": "markdown",
   "metadata": {},
   "source": [
    "# Examples for loading mdf formatted json files into pandas\n",
    "This is mostly to play around with pandas to see if it will be a good fit for working with mdf. Note that for the most part, in MDF we use a db (for now, mostly Mongo DB), not json files. But json provides a good representation of the that we received from mongo db, and so makes for a good and simple way to test pandas, if we want to integrate with pandas in the future."
   ]
  },
  {
   "cell_type": "markdown",
   "metadata": {},
   "source": [
    "### First, import MDF-shaped data into pandas"
   ]
  },
  {
   "cell_type": "code",
   "execution_count": 6,
   "metadata": {},
   "outputs": [
    {
     "name": "stdout",
     "output_type": "stream",
     "text": [
      "path /home/vagrant/projects/mdf/pyMDF/mdf_playground/../test_data/testJson_exp.json\n"
     ]
    },
    {
     "data": {
      "text/html": [
       "<div>\n",
       "<style scoped>\n",
       "    .dataframe tbody tr th:only-of-type {\n",
       "        vertical-align: middle;\n",
       "    }\n",
       "\n",
       "    .dataframe tbody tr th {\n",
       "        vertical-align: top;\n",
       "    }\n",
       "\n",
       "    .dataframe thead th {\n",
       "        text-align: right;\n",
       "    }\n",
       "</style>\n",
       "<table border=\"1\" class=\"dataframe\">\n",
       "  <thead>\n",
       "    <tr style=\"text-align: right;\">\n",
       "      <th></th>\n",
       "      <th>integer</th>\n",
       "      <th>float</th>\n",
       "      <th>string</th>\n",
       "      <th>object</th>\n",
       "      <th>stringarray</th>\n",
       "      <th>vector</th>\n",
       "      <th>matrix</th>\n",
       "    </tr>\n",
       "  </thead>\n",
       "  <tbody>\n",
       "    <tr>\n",
       "      <th>0</th>\n",
       "      <td>1</td>\n",
       "      <td>2.34</td>\n",
       "      <td>This is a string</td>\n",
       "      <td>{'field1': 'field1', 'field2': 2, 'field3': []}</td>\n",
       "      <td>[This is the first string, This is the second ...</td>\n",
       "      <td>[1, 2, 3, 4, 5, 6, 7, 8, 9]</td>\n",
       "      <td>[[1, 2, 3], [4, 5, 6], [7, 8, 9]]</td>\n",
       "    </tr>\n",
       "    <tr>\n",
       "      <th>1</th>\n",
       "      <td>2</td>\n",
       "      <td>2.35</td>\n",
       "      <td>This is another string</td>\n",
       "      <td>{'field1': 'field1', 'field2': 23, 'field3': []}</td>\n",
       "      <td>[This is the first string, This is the second ...</td>\n",
       "      <td>[1, 2, 3, 4, 5, 6, 7, 8, 9, 10]</td>\n",
       "      <td>[[1, 2, 3], [4, 5, 6], [7, 8, 9]]</td>\n",
       "    </tr>\n",
       "  </tbody>\n",
       "</table>\n",
       "</div>"
      ],
      "text/plain": [
       "   integer  float                  string  \\\n",
       "0        1   2.34        This is a string   \n",
       "1        2   2.35  This is another string   \n",
       "\n",
       "                                             object  \\\n",
       "0   {'field1': 'field1', 'field2': 2, 'field3': []}   \n",
       "1  {'field1': 'field1', 'field2': 23, 'field3': []}   \n",
       "\n",
       "                                         stringarray  \\\n",
       "0  [This is the first string, This is the second ...   \n",
       "1  [This is the first string, This is the second ...   \n",
       "\n",
       "                            vector                             matrix  \n",
       "0      [1, 2, 3, 4, 5, 6, 7, 8, 9]  [[1, 2, 3], [4, 5, 6], [7, 8, 9]]  \n",
       "1  [1, 2, 3, 4, 5, 6, 7, 8, 9, 10]  [[1, 2, 3], [4, 5, 6], [7, 8, 9]]  "
      ]
     },
     "execution_count": 6,
     "metadata": {},
     "output_type": "execute_result"
    }
   ],
   "source": [
    "import pandas as pd\n",
    "import numpy as np\n",
    "\n",
    "# loading one of the test json files\n",
    "# from mdf_playground.mdf_json_to_pandas import json2pd\n",
    "\n",
    "from mdf_json_to_pandas import json2pd\n",
    "\n",
    "df = json2pd()\n",
    "df"
   ]
  },
  {
   "cell_type": "markdown",
   "metadata": {},
   "source": [
    "### Demonstrate how to access different fields using pandas"
   ]
  },
  {
   "cell_type": "code",
   "execution_count": 21,
   "metadata": {},
   "outputs": [
    {
     "data": {
      "text/plain": [
       "0        [1, 2, 3, 4, 5, 6, 7, 8, 9]\n",
       "1    [1, 2, 3, 4, 5, 6, 7, 8, 9, 10]\n",
       "Name: vector, dtype: object"
      ]
     },
     "execution_count": 21,
     "metadata": {},
     "output_type": "execute_result"
    }
   ],
   "source": [
    "# Access a field by calling it as a method\n",
    "df.vector"
   ]
  },
  {
   "cell_type": "code",
   "execution_count": 20,
   "metadata": {},
   "outputs": [
    {
     "data": {
      "text/plain": [
       "[1, 2, 3]"
      ]
     },
     "execution_count": 20,
     "metadata": {},
     "output_type": "execute_result"
    }
   ],
   "source": [
    "# Drill down into a matrix\n",
    "df.matrix[0][0]"
   ]
  },
  {
   "cell_type": "code",
   "execution_count": 27,
   "metadata": {},
   "outputs": [
    {
     "data": {
      "text/plain": [
       "0     {'field1': 'field1', 'field2': 2, 'field3': []}\n",
       "1    {'field1': 'field1', 'field2': 23, 'field3': []}\n",
       "Name: object, dtype: object"
      ]
     },
     "execution_count": 27,
     "metadata": {},
     "output_type": "execute_result"
    }
   ],
   "source": [
    "df.object"
   ]
  },
  {
   "cell_type": "markdown",
   "metadata": {},
   "source": [
    "### Use pyMDF to manipulate our pandas obj"
   ]
  },
  {
   "cell_type": "code",
   "execution_count": 8,
   "metadata": {},
   "outputs": [],
   "source": [
    "# allow imports from parent directory, to avoid having to put this notebook on the root level\n",
    "# https://stackoverflow.com/a/45874916/6952495\n",
    "import sys\n",
    "sys.path.append(\"..\")\n",
    "\n",
    "from core import mdf"
   ]
  },
  {
   "cell_type": "code",
   "execution_count": 29,
   "metadata": {},
   "outputs": [],
   "source": [
    "# That's as far as we've gotten so far"
   ]
  },
  {
   "cell_type": "code",
   "execution_count": null,
   "metadata": {},
   "outputs": [],
   "source": []
  },
  {
   "cell_type": "code",
   "execution_count": null,
   "metadata": {},
   "outputs": [],
   "source": []
  },
  {
   "cell_type": "code",
   "execution_count": null,
   "metadata": {},
   "outputs": [],
   "source": []
  },
  {
   "cell_type": "code",
   "execution_count": null,
   "metadata": {},
   "outputs": [],
   "source": []
  },
  {
   "cell_type": "code",
   "execution_count": null,
   "metadata": {},
   "outputs": [],
   "source": []
  }
 ],
 "metadata": {
  "kernelspec": {
   "display_name": "Python 3",
   "language": "python",
   "name": "python3"
  },
  "language_info": {
   "codemirror_mode": {
    "name": "ipython",
    "version": 3
   },
   "file_extension": ".py",
   "mimetype": "text/x-python",
   "name": "python",
   "nbconvert_exporter": "python",
   "pygments_lexer": "ipython3",
   "version": "3.6.9"
  }
 },
 "nbformat": 4,
 "nbformat_minor": 4
}
